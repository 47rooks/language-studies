{
 "cells": [
  {
   "cell_type": "markdown",
   "metadata": {},
   "source": [
    "# Text Sizes Documentation and Validation Checks"
   ]
  },
  {
   "cell_type": "markdown",
   "metadata": {},
   "source": [
    "### Description\n",
    "\n",
    "The Text Sizes.csv file contains text sizes in number of words by text and section, usually book or work. In addition there is a special value in the Section field indicating the total number of words in the work as a whole. The is the ```__ALL__``` value. All these values are from Accordance version 12 and the various Greek works I own in Accordance at this time.\n",
    "\n",
    "\n",
    "\n",
    "|Field | Description |\n",
    "|:----- |:----------- |\n",
    "|Author | The approximate or commonly assumed author. This not populated with any critically authoritative information. See note below.|\n",
    "|Text |This is the text module name in Accordance.|\n",
    "|Section|This the book or section name.|\n",
    "|Total Words|This is the total number of words in the section. Where Section == ```__ALL__``` it is the total number of words in the Text.|\n",
    "|IncludedInTotal|True if this row's Total Words are included in the ```__ALL__``` value. Must be False for ```__ALL__```, and for any other sections not included.|\n",
    "|AccWorkspace|The Accordance workspace name in the repo. used to produce the data.|\n",
    "\n",
    "\n",
    "Note, the Author field is only of any value in some cases. In the investigation that spawned the creation of this data I was looking at works by Luke. In many cases, I have listed the Author as Various or Unknown. It is debatable that the field should even be present."
   ]
  },
  {
   "cell_type": "code",
   "execution_count": 51,
   "metadata": {},
   "outputs": [],
   "source": [
    "import pandas as pd\n",
    "size_data = pd.read_csv(\"Text Sizes.csv\")"
   ]
  },
  {
   "cell_type": "markdown",
   "metadata": {},
   "source": [
    "The texts in the data are these."
   ]
  },
  {
   "cell_type": "code",
   "execution_count": 52,
   "metadata": {},
   "outputs": [
    {
     "data": {
      "text/plain": [
       "['Apostolic Fathers Greek',\n",
       " 'Athanasius Greek',\n",
       " 'Basil Greek',\n",
       " 'Epictetus Greek',\n",
       " 'Gospel of Thomas (Greek)',\n",
       " 'Gregory Greek',\n",
       " 'Gregory of Nyssa (Greek)',\n",
       " 'Josephus Greek',\n",
       " 'LXX Rahlfs Tagged',\n",
       " 'LXX Swete',\n",
       " 'LXX Swete (Enoch)',\n",
       " 'LXX Swete (parallel texts)',\n",
       " 'NA28 GNT',\n",
       " 'Philo Greek',\n",
       " 'Pseudepigrapha Greek',\n",
       " 'Pseudo-Clem. Homilies Greek']"
      ]
     },
     "execution_count": 52,
     "metadata": {},
     "output_type": "execute_result"
    }
   ],
   "source": [
    "sorted(size_data['Text'].drop_duplicates())"
   ]
  },
  {
   "cell_type": "markdown",
   "metadata": {},
   "source": [
    "### Validation Checks\n",
    "These validation checks just validate that summing up all sections for a work, where IncludedInTotal == True, matches the ```__ALL__``` total for the work."
   ]
  },
  {
   "cell_type": "code",
   "execution_count": 54,
   "metadata": {},
   "outputs": [
    {
     "data": {
      "text/html": [
       "<div>\n",
       "<style>\n",
       "    .dataframe thead tr:only-child th {\n",
       "        text-align: right;\n",
       "    }\n",
       "\n",
       "    .dataframe thead th {\n",
       "        text-align: left;\n",
       "    }\n",
       "\n",
       "    .dataframe tbody tr th {\n",
       "        vertical-align: top;\n",
       "    }\n",
       "</style>\n",
       "<table border=\"1\" class=\"dataframe\">\n",
       "  <thead>\n",
       "    <tr style=\"text-align: right;\">\n",
       "      <th></th>\n",
       "      <th>Text</th>\n",
       "      <th>Aggregated Total</th>\n",
       "      <th>__ALL__ Words</th>\n",
       "      <th>Diff</th>\n",
       "    </tr>\n",
       "  </thead>\n",
       "  <tbody>\n",
       "    <tr>\n",
       "      <th>0</th>\n",
       "      <td>Apostolic Fathers Greek</td>\n",
       "      <td>66264</td>\n",
       "      <td>66264</td>\n",
       "      <td>False</td>\n",
       "    </tr>\n",
       "    <tr>\n",
       "      <th>1</th>\n",
       "      <td>Athanasius Greek</td>\n",
       "      <td>146844</td>\n",
       "      <td>146844</td>\n",
       "      <td>False</td>\n",
       "    </tr>\n",
       "    <tr>\n",
       "      <th>2</th>\n",
       "      <td>Basil Greek</td>\n",
       "      <td>25899</td>\n",
       "      <td>25899</td>\n",
       "      <td>False</td>\n",
       "    </tr>\n",
       "    <tr>\n",
       "      <th>3</th>\n",
       "      <td>Epictetus Greek</td>\n",
       "      <td>80305</td>\n",
       "      <td>80305</td>\n",
       "      <td>False</td>\n",
       "    </tr>\n",
       "    <tr>\n",
       "      <th>4</th>\n",
       "      <td>Gospel of Thomas (Greek)</td>\n",
       "      <td>2665</td>\n",
       "      <td>2665</td>\n",
       "      <td>False</td>\n",
       "    </tr>\n",
       "    <tr>\n",
       "      <th>5</th>\n",
       "      <td>Gregory Greek</td>\n",
       "      <td>9747</td>\n",
       "      <td>9747</td>\n",
       "      <td>False</td>\n",
       "    </tr>\n",
       "    <tr>\n",
       "      <th>6</th>\n",
       "      <td>Gregory of Nyssa (Greek)</td>\n",
       "      <td>20359</td>\n",
       "      <td>20359</td>\n",
       "      <td>False</td>\n",
       "    </tr>\n",
       "    <tr>\n",
       "      <th>7</th>\n",
       "      <td>Josephus Greek</td>\n",
       "      <td>468505</td>\n",
       "      <td>468505</td>\n",
       "      <td>False</td>\n",
       "    </tr>\n",
       "    <tr>\n",
       "      <th>8</th>\n",
       "      <td>LXX Rahlfs Tagged</td>\n",
       "      <td>587477</td>\n",
       "      <td>587477</td>\n",
       "      <td>False</td>\n",
       "    </tr>\n",
       "    <tr>\n",
       "      <th>9</th>\n",
       "      <td>LXX Swete</td>\n",
       "      <td>583665</td>\n",
       "      <td>583665</td>\n",
       "      <td>False</td>\n",
       "    </tr>\n",
       "    <tr>\n",
       "      <th>10</th>\n",
       "      <td>LXX Swete (Enoch)</td>\n",
       "      <td>5716</td>\n",
       "      <td>5716</td>\n",
       "      <td>False</td>\n",
       "    </tr>\n",
       "    <tr>\n",
       "      <th>11</th>\n",
       "      <td>LXX Swete (parallel texts)</td>\n",
       "      <td>19433</td>\n",
       "      <td>19433</td>\n",
       "      <td>False</td>\n",
       "    </tr>\n",
       "    <tr>\n",
       "      <th>12</th>\n",
       "      <td>NA28 GNT</td>\n",
       "      <td>138213</td>\n",
       "      <td>138213</td>\n",
       "      <td>False</td>\n",
       "    </tr>\n",
       "    <tr>\n",
       "      <th>13</th>\n",
       "      <td>Philo Greek</td>\n",
       "      <td>438608</td>\n",
       "      <td>438608</td>\n",
       "      <td>False</td>\n",
       "    </tr>\n",
       "    <tr>\n",
       "      <th>14</th>\n",
       "      <td>Pseudepigrapha Greek</td>\n",
       "      <td>172645</td>\n",
       "      <td>172645</td>\n",
       "      <td>False</td>\n",
       "    </tr>\n",
       "    <tr>\n",
       "      <th>15</th>\n",
       "      <td>Pseudo-Clem. Homilies Greek</td>\n",
       "      <td>74950</td>\n",
       "      <td>74950</td>\n",
       "      <td>False</td>\n",
       "    </tr>\n",
       "  </tbody>\n",
       "</table>\n",
       "</div>"
      ],
      "text/plain": [
       "                           Text  Aggregated Total  __ALL__ Words   Diff\n",
       "0       Apostolic Fathers Greek             66264          66264  False\n",
       "1              Athanasius Greek            146844         146844  False\n",
       "2                   Basil Greek             25899          25899  False\n",
       "3               Epictetus Greek             80305          80305  False\n",
       "4      Gospel of Thomas (Greek)              2665           2665  False\n",
       "5                 Gregory Greek              9747           9747  False\n",
       "6      Gregory of Nyssa (Greek)             20359          20359  False\n",
       "7                Josephus Greek            468505         468505  False\n",
       "8             LXX Rahlfs Tagged            587477         587477  False\n",
       "9                     LXX Swete            583665         583665  False\n",
       "10            LXX Swete (Enoch)              5716           5716  False\n",
       "11   LXX Swete (parallel texts)             19433          19433  False\n",
       "12                     NA28 GNT            138213         138213  False\n",
       "13                  Philo Greek            438608         438608  False\n",
       "14         Pseudepigrapha Greek            172645         172645  False\n",
       "15  Pseudo-Clem. Homilies Greek             74950          74950  False"
      ]
     },
     "execution_count": 54,
     "metadata": {},
     "output_type": "execute_result"
    }
   ],
   "source": [
    "# Compute totals and compare with __ALL__ values\n",
    "# Compute totals using only included values\n",
    "total_sizes = size_data.query('IncludedInTotal == True')[['Text','Total Words']].groupby(['Text']).sum()\n",
    "total_sizes.reset_index(inplace=True)\n",
    "total_sizes.columns=['Text','Aggregated Total']\n",
    "\n",
    "# Extract the __ALL__ values\n",
    "__all__sizes = size_data.query('Section == \\'__ALL__\\'')[['Text','Total Words']]\n",
    "__all__sizes.columns=['Text', '__ALL__ Words']\n",
    "compare_sizes = total_sizes.join(__all__sizes.set_index(['Text']), on=['Text'])\n",
    "compare_sizes['Diff'] = compare_sizes['Aggregated Total'] != compare_sizes['__ALL__ Words']\n",
    "compare_sizes"
   ]
  },
  {
   "cell_type": "code",
   "execution_count": null,
   "metadata": {
    "collapsed": true
   },
   "outputs": [],
   "source": []
  }
 ],
 "metadata": {
  "kernelspec": {
   "display_name": "Python 3",
   "language": "python",
   "name": "python3"
  },
  "language_info": {
   "codemirror_mode": {
    "name": "ipython",
    "version": 3
   },
   "file_extension": ".py",
   "mimetype": "text/x-python",
   "name": "python",
   "nbconvert_exporter": "python",
   "pygments_lexer": "ipython3",
   "version": "3.6.1"
  }
 },
 "nbformat": 4,
 "nbformat_minor": 2
}
